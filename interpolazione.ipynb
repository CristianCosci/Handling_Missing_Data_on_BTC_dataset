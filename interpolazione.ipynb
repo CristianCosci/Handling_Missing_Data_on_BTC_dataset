{
  "nbformat": 4,
  "nbformat_minor": 0,
  "metadata": {
    "colab": {
      "name": "interpolazione.ipynb",
      "provenance": [],
      "authorship_tag": "ABX9TyO/RBc1EE1f8CB0eEQQtl2o",
      "include_colab_link": true
    },
    "kernelspec": {
      "name": "python3",
      "display_name": "Python 3"
    },
    "language_info": {
      "name": "python"
    }
  },
  "cells": [
    {
      "cell_type": "markdown",
      "metadata": {
        "id": "view-in-github",
        "colab_type": "text"
      },
      "source": [
        "<a href=\"https://colab.research.google.com/github/CristianCosci/interpolationStudy_toHandleMissingData_BTCdataset/blob/main/interpolazione.ipynb\" target=\"_parent\"><img src=\"https://colab.research.google.com/assets/colab-badge.svg\" alt=\"Open In Colab\"/></a>"
      ]
    },
    {
      "cell_type": "code",
      "metadata": {
        "id": "CH6TdqrKpR73"
      },
      "source": [
        "import pandas as pd\n",
        "from tqdm import *  #libreria per barre di progressione\n",
        "import matplotlib.pyplot as plt\n",
        "import os\n",
        "import requests\n",
        "import numpy as np\n",
        "from sklearn.metrics import r2_score"
      ],
      "execution_count": 36,
      "outputs": []
    },
    {
      "cell_type": "code",
      "metadata": {
        "id": "3odWNkc0pVpg"
      },
      "source": [
        "def generateBitcoinOHLCV(exchange, compression):\n",
        "    \"\"\"\n",
        "    Download exchange data from bitcoincharts.com and building OHLCV candelsticks format\n",
        "\n",
        "    Parameters\n",
        "    ----------\n",
        "    exchange : str\n",
        "        Exchange's name from http://api.bitcoincharts.com/v1/csv/\n",
        "\n",
        "    compression : int\n",
        "      minutes for resampling  \n",
        "\n",
        "    Returns\n",
        "    -------\n",
        "    historicalOHLCV : pd.DataFrame\n",
        "        Dataframe with historical OHLCV candlesticks\n",
        "    \"\"\"\n",
        "\n",
        "    bitcoinchartsUrl = \"http://api.bitcoincharts.com/v1/csv/{}USD.csv.gz\".format(exchange)    #data in USD currency\n",
        "\n",
        "    print(\"Downloading {} trade data from URL {}\".format(exchange, bitcoinchartsUrl))\n",
        "    print()\n",
        "\n",
        "    historicalTrades = pd.read_csv(bitcoinchartsUrl, names=[\"unixtime\", \"price\", \"amount\"], compression='gzip')   #reading csv from url\n",
        "    \"\"\"\n",
        "    Il csv presenta i dati relativi agli scambi sull'exchange.\n",
        "    \n",
        "    Formato dei dati (preso direttamente dal sito https://bitcoincharts.com/about/markets-api/):\n",
        "        \n",
        "        HISTORICAL TRADE DATA\n",
        "\n",
        "        returns CSV:\n",
        "\n",
        "        unixtime,price,amount\n",
        "    \"\"\"\n",
        "\n",
        "    historicalTrades[\"datetime\"] = pd.to_datetime(historicalTrades[\"unixtime\"], unit=\"s\") #conversion timestamp to datetime\n",
        "    historicalTrades = historicalTrades.drop(\"unixtime\", axis=1).set_index(\"datetime\").sort_index()\n",
        "    historicalTrades = historicalTrades[~(historicalTrades.index < '2012-01-01 00:00:00')] #put the data starts to 2012\n",
        "\n",
        "    historicalOHLCV = historicalTrades\n",
        "\n",
        "    #build OHLCV historical data\n",
        "    historicalOHLCV[\"open\"] = historicalTrades[\"price\"]\n",
        "    historicalOHLCV[\"high\"] = historicalTrades[\"price\"]\n",
        "    historicalOHLCV[\"low\"] = historicalTrades[\"price\"]\n",
        "    historicalOHLCV[\"close\"] = historicalTrades[\"price\"]\n",
        "    historicalOHLCV[\"volume\"] = historicalTrades[\"amount\"]\n",
        "\n",
        "    historicalOHLCV = historicalOHLCV.drop([\"price\", \"amount\"], axis=1)\n",
        "\n",
        "    historicalOHLCV = historicalOHLCV.resample(str(compression) + \"min\").agg({\"open\": \"first\", \"high\": \"max\", \"low\": \"min\", \"close\": \"last\", \"volume\": \"sum\"})\n",
        "    #historicalOHLCV = historicalOHLCV.resample(str(compression) + \"min\").agg({\"open\": \"first\", \"high\": \"max\", \"low\": \"min\", \"close\": \"last\", \"volume\": \"sum\"}).dropna()\n",
        "    return historicalOHLCV[[\"open\", \"high\", \"low\", \"close\", \"volume\"]]"
      ],
      "execution_count": 37,
      "outputs": []
    },
    {
      "cell_type": "code",
      "metadata": {
        "id": "FfA10mRMqbln"
      },
      "source": [
        "def resumeNaN(dfname, df):\n",
        "  \"\"\"\n",
        "  Print the NaN rows for the df\n",
        "\n",
        "  Parameters\n",
        "    ----------\n",
        "    dfname : string\n",
        "      Exchange's name\n",
        "\n",
        "    df : pd.DataFrame\n",
        "      data to analize\n",
        "  \"\"\"\n",
        "  is_NaN = df.isnull()\n",
        "  row_has_NaN = is_NaN.any(axis=1)\n",
        "  rows_with_NaN = df[row_has_NaN]\n",
        "  print()\n",
        "  print(\"exchange: {}\".format(dfname))\n",
        "  print(\"----------------------\")\n",
        "  print(rows_with_NaN)\n",
        "  print()\n",
        "  print(\"----------------------\")"
      ],
      "execution_count": 38,
      "outputs": []
    },
    {
      "cell_type": "code",
      "metadata": {
        "id": "Y1GUcTX7pZLH"
      },
      "source": [
        "def creaCartelle():\n",
        "  if(os.path.isdir(\"/home/csv\")  == False and len(\"/home/csv\")>0):\n",
        "    os.makedirs(\"/home/csv\")"
      ],
      "execution_count": 39,
      "outputs": []
    },
    {
      "cell_type": "code",
      "metadata": {
        "colab": {
          "base_uri": "https://localhost:8080/"
        },
        "id": "yIbssc4Lpge3",
        "outputId": "454b6dd2-574f-4893-fd4c-7daf9a81a0e0"
      },
      "source": [
        "creaCartelle()\n",
        "\n",
        "# Define the compression and the output file\n",
        "compression = 60 #min\n",
        "outputFile = \"\"\n",
        "\n",
        "# Define the exchanges we want to aggregate\n",
        "exchanges = [\"bitstamp\"]\n",
        "\n",
        "OHLCV = {}\n",
        "\n",
        "for exchange in tqdm(exchanges):\n",
        "  OHLCV[exchange] = generateBitcoinOHLCV(exchange, compression)\n",
        "  outputFile = \"{}_data.csv\".format(exchange)\n",
        "  print(\"Saving {} rows to file {}\".format(len(OHLCV), outputFile))\n",
        "  print()\n",
        "  OHLCV[exchange].to_csv(\"/home/csv/{}\".format(outputFile))\n"
      ],
      "execution_count": 40,
      "outputs": [
        {
          "output_type": "stream",
          "text": [
            "\r  0%|          | 0/1 [00:00<?, ?it/s]"
          ],
          "name": "stderr"
        },
        {
          "output_type": "stream",
          "text": [
            "Downloading bitstamp trade data from URL http://api.bitcoincharts.com/v1/csv/bitstampUSD.csv.gz\n",
            "\n",
            "Saving 1 rows to file bitstamp_data.csv\n",
            "\n"
          ],
          "name": "stdout"
        },
        {
          "output_type": "stream",
          "text": [
            "100%|██████████| 1/1 [01:08<00:00, 68.68s/it]\n"
          ],
          "name": "stderr"
        }
      ]
    },
    {
      "cell_type": "code",
      "metadata": {
        "colab": {
          "base_uri": "https://localhost:8080/"
        },
        "id": "mIvy6Z0HpkIu",
        "outputId": "3ce93d4b-70cd-486b-d0e5-0eedecbef5fc"
      },
      "source": [
        "#Create new DataFrame to analize with only the interval choosed\n",
        "df = pd.DataFrame()\n",
        "df[\"open\"] = OHLCV[\"bitstamp\"][\"open\"].loc['2014-02-02 11:00:00':'2014-07-11 04:00:00'] #get an interval without NaN\n",
        "print(df)"
      ],
      "execution_count": 41,
      "outputs": [
        {
          "output_type": "stream",
          "text": [
            "                       open\n",
            "datetime                   \n",
            "2014-02-02 11:00:00  824.50\n",
            "2014-02-02 12:00:00  819.40\n",
            "2014-02-02 13:00:00  822.00\n",
            "2014-02-02 14:00:00  821.98\n",
            "2014-02-02 15:00:00  818.34\n",
            "...                     ...\n",
            "2014-07-11 00:00:00  616.87\n",
            "2014-07-11 01:00:00  616.58\n",
            "2014-07-11 02:00:00  617.00\n",
            "2014-07-11 03:00:00  619.18\n",
            "2014-07-11 04:00:00  619.79\n",
            "\n",
            "[3810 rows x 1 columns]\n"
          ],
          "name": "stdout"
        }
      ]
    },
    {
      "cell_type": "code",
      "metadata": {
        "colab": {
          "base_uri": "https://localhost:8080/"
        },
        "id": "vlzvXhzlp6N2",
        "outputId": "3723645b-7c05-419e-b51c-7a32b15f8508"
      },
      "source": [
        "#Generate NaN\n",
        "nan_mat = np.random.random(df.shape)<0.25 #0.25% of NaN\n",
        "print(\"NaN generated: \",nan_mat.sum()) #number of NaN generated\n",
        "\n",
        "df_NaN = df.mask(nan_mat) #new DataFrame with nan\n",
        "print(df_NaN)\n",
        "\n",
        "resumeNaN(\"bistamp interval\", df_NaN)"
      ],
      "execution_count": 42,
      "outputs": [
        {
          "output_type": "stream",
          "text": [
            "NaN generated:  963\n",
            "                       open\n",
            "datetime                   \n",
            "2014-02-02 11:00:00  824.50\n",
            "2014-02-02 12:00:00  819.40\n",
            "2014-02-02 13:00:00  822.00\n",
            "2014-02-02 14:00:00     NaN\n",
            "2014-02-02 15:00:00  818.34\n",
            "...                     ...\n",
            "2014-07-11 00:00:00     NaN\n",
            "2014-07-11 01:00:00  616.58\n",
            "2014-07-11 02:00:00  617.00\n",
            "2014-07-11 03:00:00     NaN\n",
            "2014-07-11 04:00:00  619.79\n",
            "\n",
            "[3810 rows x 1 columns]\n",
            "\n",
            "exchange: bistamp interval\n",
            "----------------------\n",
            "                     open\n",
            "datetime                 \n",
            "2014-02-02 14:00:00   NaN\n",
            "2014-02-02 17:00:00   NaN\n",
            "2014-02-03 01:00:00   NaN\n",
            "2014-02-03 03:00:00   NaN\n",
            "2014-02-03 05:00:00   NaN\n",
            "...                   ...\n",
            "2014-07-10 17:00:00   NaN\n",
            "2014-07-10 22:00:00   NaN\n",
            "2014-07-10 23:00:00   NaN\n",
            "2014-07-11 00:00:00   NaN\n",
            "2014-07-11 03:00:00   NaN\n",
            "\n",
            "[963 rows x 1 columns]\n",
            "\n",
            "----------------------\n"
          ],
          "name": "stdout"
        }
      ]
    },
    {
      "cell_type": "code",
      "metadata": {
        "colab": {
          "base_uri": "https://localhost:8080/"
        },
        "id": "6yrs3zr7qNet",
        "outputId": "d0430667-c448-425b-faba-02fb4e51e133"
      },
      "source": [
        "#Create new column to better score the interpolate methods\n",
        "df[\"reference\"] = df[\"open\"]\n",
        "df[\"target\"] = df_NaN[\"open\"]\n",
        "df = df.drop(\"open\", axis=1)\n",
        "print(df)"
      ],
      "execution_count": 43,
      "outputs": [
        {
          "output_type": "stream",
          "text": [
            "                     reference  target\n",
            "datetime                              \n",
            "2014-02-02 11:00:00     824.50  824.50\n",
            "2014-02-02 12:00:00     819.40  819.40\n",
            "2014-02-02 13:00:00     822.00  822.00\n",
            "2014-02-02 14:00:00     821.98     NaN\n",
            "2014-02-02 15:00:00     818.34  818.34\n",
            "...                        ...     ...\n",
            "2014-07-11 00:00:00     616.87     NaN\n",
            "2014-07-11 01:00:00     616.58  616.58\n",
            "2014-07-11 02:00:00     617.00  617.00\n",
            "2014-07-11 03:00:00     619.18     NaN\n",
            "2014-07-11 04:00:00     619.79  619.79\n",
            "\n",
            "[3810 rows x 2 columns]\n"
          ],
          "name": "stdout"
        }
      ]
    },
    {
      "cell_type": "code",
      "metadata": {
        "colab": {
          "base_uri": "https://localhost:8080/"
        },
        "id": "GdZXspSdqQmf",
        "outputId": "6f04cf14-785f-468b-cc30-a4d9d4103bcb"
      },
      "source": [
        "df = df.assign(missing= np.nan) #create new column with missing values\n",
        "df.missing[df.target.isna()] = df.reference\n",
        "df.info()"
      ],
      "execution_count": 44,
      "outputs": [
        {
          "output_type": "stream",
          "text": [
            "<class 'pandas.core.frame.DataFrame'>\n",
            "DatetimeIndex: 3810 entries, 2014-02-02 11:00:00 to 2014-07-11 04:00:00\n",
            "Freq: 60T\n",
            "Data columns (total 3 columns):\n",
            " #   Column     Non-Null Count  Dtype  \n",
            "---  ------     --------------  -----  \n",
            " 0   reference  3810 non-null   float64\n",
            " 1   target     2847 non-null   float64\n",
            " 2   missing    963 non-null    float64\n",
            "dtypes: float64(3)\n",
            "memory usage: 119.1 KB\n"
          ],
          "name": "stdout"
        }
      ]
    },
    {
      "cell_type": "code",
      "metadata": {
        "colab": {
          "base_uri": "https://localhost:8080/",
          "height": 634
        },
        "id": "YqlY4puJqSF_",
        "outputId": "956b0cea-5519-4ef6-fdcb-338a2da2dbb4"
      },
      "source": [
        "df.plot(style=['k--', 'bo-', 'r*'], figsize=(20, 10))"
      ],
      "execution_count": 45,
      "outputs": [
        {
          "output_type": "execute_result",
          "data": {
            "text/plain": [
              "<matplotlib.axes._subplots.AxesSubplot at 0x7f742ad3ec10>"
            ]
          },
          "metadata": {
            "tags": []
          },
          "execution_count": 45
        },
        {
          "output_type": "display_data",
          "data": {
            "image/png": "[encoded data removed]",
            "text/plain": [
              "<Figure size 1440x720 with 1 Axes>"
            ]
          },
          "metadata": {
            "tags": [],
            "needs_background": "light"
          }
        }
      ]
    },
    {
      "cell_type": "code",
      "metadata": {
        "id": "usKlTdxZqU9u"
      },
      "source": [
        "#INTERPOLATE METHODS \n",
        "df = df.assign(FillMean=df.target.fillna(df.target.mean()))\n",
        "df = df.assign(FillMedian=df.target.fillna(df.target.median()))\n",
        "df = df.assign(RollingMean=df.target.fillna(df.target.rolling(24,min_periods=1,).mean()))\n",
        "df = df.assign(RollingMedian=df.target.fillna(df.target.rolling(24,min_periods=1,).median()))\n",
        "df = df.assign(InterpolateLinear=df.target.interpolate(method='linear'))\n",
        "df = df.assign(InterpolateTime=df.target.interpolate(method='time'))\n",
        "df = df.assign(InterpolateQuadratic=df.target.interpolate(method='quadratic'))\n",
        "df = df.assign(InterpolateCubic=df.target.interpolate(method='cubic'))\n",
        "df = df.assign(InterpolateSLinear=df.target.interpolate(method='slinear'))\n",
        "df = df.assign(InterpolateAkima=df.target.interpolate(method='akima'))\n",
        "df = df.assign(InterpolatePoly5=df.target.interpolate(method='polynomial', order=5)) \n",
        "df = df.assign(InterpolatePoly7=df.target.interpolate(method='polynomial', order=7))\n",
        "df = df.assign(InterpolateSpline3=df.target.interpolate(method='spline', order=3))\n",
        "df = df.assign(InterpolateSpline4=df.target.interpolate(method='spline', order=4))\n",
        "df = df.assign(InterpolateSpline5=df.target.interpolate(method='spline', order=5))"
      ],
      "execution_count": 46,
      "outputs": []
    },
    {
      "cell_type": "code",
      "metadata": {
        "colab": {
          "base_uri": "https://localhost:8080/",
          "height": 491
        },
        "id": "shyNbq4TqWaG",
        "outputId": "067c5567-d0cb-4aea-83c2-3ff3291063be"
      },
      "source": [
        "#EVALUTE EACH INTERPOLATE METHODS TO SEE WHICH IS BETTER IN THIS EXAMPLE CASE\n",
        "results = [(method, r2_score(df.reference, df[method])) for method in list(df)[3:]]\n",
        "results_df = pd.DataFrame(np.array(results), columns=['Method', 'R_squared'])\n",
        "results_df.sort_values(by='R_squared', ascending=False)"
      ],
      "execution_count": 47,
      "outputs": [
        {
          "output_type": "execute_result",
          "data": {
            "text/html": [
              "<div>\n",
              "<style scoped>\n",
              "    .dataframe tbody tr th:only-of-type {\n",
              "        vertical-align: middle;\n",
              "    }\n",
              "\n",
              "    .dataframe tbody tr th {\n",
              "        vertical-align: top;\n",
              "    }\n",
              "\n",
              "    .dataframe thead th {\n",
              "        text-align: right;\n",
              "    }\n",
              "</style>\n",
              "<table border=\"1\" class=\"dataframe\">\n",
              "  <thead>\n",
              "    <tr style=\"text-align: right;\">\n",
              "      <th></th>\n",
              "      <th>Method</th>\n",
              "      <th>R_squared</th>\n",
              "    </tr>\n",
              "  </thead>\n",
              "  <tbody>\n",
              "    <tr>\n",
              "      <th>4</th>\n",
              "      <td>InterpolateLinear</td>\n",
              "      <td>0.9994426781764747</td>\n",
              "    </tr>\n",
              "    <tr>\n",
              "      <th>5</th>\n",
              "      <td>InterpolateTime</td>\n",
              "      <td>0.9994426781764747</td>\n",
              "    </tr>\n",
              "    <tr>\n",
              "      <th>8</th>\n",
              "      <td>InterpolateSLinear</td>\n",
              "      <td>0.9994426781764747</td>\n",
              "    </tr>\n",
              "    <tr>\n",
              "      <th>9</th>\n",
              "      <td>InterpolateAkima</td>\n",
              "      <td>0.9994239345857749</td>\n",
              "    </tr>\n",
              "    <tr>\n",
              "      <th>12</th>\n",
              "      <td>InterpolateSpline3</td>\n",
              "      <td>0.9992934112602558</td>\n",
              "    </tr>\n",
              "    <tr>\n",
              "      <th>6</th>\n",
              "      <td>InterpolateQuadratic</td>\n",
              "      <td>0.9992738022991622</td>\n",
              "    </tr>\n",
              "    <tr>\n",
              "      <th>7</th>\n",
              "      <td>InterpolateCubic</td>\n",
              "      <td>0.9992374285971733</td>\n",
              "    </tr>\n",
              "    <tr>\n",
              "      <th>14</th>\n",
              "      <td>InterpolateSpline5</td>\n",
              "      <td>0.998949939973523</td>\n",
              "    </tr>\n",
              "    <tr>\n",
              "      <th>10</th>\n",
              "      <td>InterpolatePoly5</td>\n",
              "      <td>0.9987611159012985</td>\n",
              "    </tr>\n",
              "    <tr>\n",
              "      <th>11</th>\n",
              "      <td>InterpolatePoly7</td>\n",
              "      <td>0.9979553201389362</td>\n",
              "    </tr>\n",
              "    <tr>\n",
              "      <th>13</th>\n",
              "      <td>InterpolateSpline4</td>\n",
              "      <td>0.995027428537013</td>\n",
              "    </tr>\n",
              "    <tr>\n",
              "      <th>2</th>\n",
              "      <td>RollingMean</td>\n",
              "      <td>0.9927767851477312</td>\n",
              "    </tr>\n",
              "    <tr>\n",
              "      <th>3</th>\n",
              "      <td>RollingMedian</td>\n",
              "      <td>0.991442314738722</td>\n",
              "    </tr>\n",
              "    <tr>\n",
              "      <th>0</th>\n",
              "      <td>FillMean</td>\n",
              "      <td>0.728700541879597</td>\n",
              "    </tr>\n",
              "    <tr>\n",
              "      <th>1</th>\n",
              "      <td>FillMedian</td>\n",
              "      <td>0.7150249726117996</td>\n",
              "    </tr>\n",
              "  </tbody>\n",
              "</table>\n",
              "</div>"
            ],
            "text/plain": [
              "                  Method           R_squared\n",
              "4      InterpolateLinear  0.9994426781764747\n",
              "5        InterpolateTime  0.9994426781764747\n",
              "8     InterpolateSLinear  0.9994426781764747\n",
              "9       InterpolateAkima  0.9994239345857749\n",
              "12    InterpolateSpline3  0.9992934112602558\n",
              "6   InterpolateQuadratic  0.9992738022991622\n",
              "7       InterpolateCubic  0.9992374285971733\n",
              "14    InterpolateSpline5   0.998949939973523\n",
              "10      InterpolatePoly5  0.9987611159012985\n",
              "11      InterpolatePoly7  0.9979553201389362\n",
              "13    InterpolateSpline4   0.995027428537013\n",
              "2            RollingMean  0.9927767851477312\n",
              "3          RollingMedian   0.991442314738722\n",
              "0               FillMean   0.728700541879597\n",
              "1             FillMedian  0.7150249726117996"
            ]
          },
          "metadata": {
            "tags": []
          },
          "execution_count": 47
        }
      ]
    }
  ]
}